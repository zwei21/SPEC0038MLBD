{
 "cells": [
  {
   "cell_type": "markdown",
   "metadata": {
    "slideshow": {
     "slide_type": "slide"
    }
   },
   "source": [
    "# Lecture 4: Performance analysis\n"
   ]
  },
  {
   "cell_type": "markdown",
   "metadata": {
    "slideshow": {
     "slide_type": "skip"
    }
   },
   "source": [
    "![](https://www.tensorflow.org/images/colab_logo_32px.png)\n",
    "[Run in colab](https://colab.research.google.com/drive/1qRS7NIEctu9MaqafI5IpK9RWG3yyMYO1)"
   ]
  },
  {
   "cell_type": "code",
   "execution_count": 1,
   "metadata": {
    "execution": {
     "iopub.execute_input": "2022-01-14T13:47:04.760432Z",
     "iopub.status.busy": "2022-01-14T13:47:04.758448Z",
     "iopub.status.idle": "2022-01-14T13:47:04.763505Z",
     "shell.execute_reply": "2022-01-14T13:47:04.763939Z"
    },
    "slideshow": {
     "slide_type": "skip"
    }
   },
   "outputs": [
    {
     "name": "stdout",
     "output_type": "stream",
     "text": [
      "Last executed: 2022-01-14 13:47:04\n"
     ]
    }
   ],
   "source": [
    "import datetime\n",
    "now = datetime.datetime.now()\n",
    "print(\"Last executed: \" + now.strftime(\"%Y-%m-%d %H:%M:%S\"))"
   ]
  },
  {
   "cell_type": "markdown",
   "metadata": {
    "slideshow": {
     "slide_type": "slide"
    }
   },
   "source": [
    "## Examining datasets\n",
    "\n",
    "Use the MNIST digit dataset as a worked example in this lecture."
   ]
  },
  {
   "cell_type": "markdown",
   "metadata": {
    "slideshow": {
     "slide_type": "subslide"
    }
   },
   "source": [
    "### Fetch MNIST data"
   ]
  },
  {
   "cell_type": "code",
   "execution_count": 2,
   "metadata": {
    "execution": {
     "iopub.execute_input": "2022-01-14T13:47:04.780638Z",
     "iopub.status.busy": "2022-01-14T13:47:04.780005Z",
     "iopub.status.idle": "2022-01-14T13:47:27.043930Z",
     "shell.execute_reply": "2022-01-14T13:47:27.042830Z"
    }
   },
   "outputs": [],
   "source": [
    "# Common imports\n",
    "import os\n",
    "import numpy as np\n",
    "np.random.seed(42) # To make this notebook's output stable across runs\n",
    "\n",
    "# Fetch MNIST dataset\n",
    "import requests  \n",
    "url = \"https://drive.google.com/uc?export=download&id=1_DqI-pH7gV5RuWxQ4IT1U7PrmSLLhc2a\"\n",
    "mnist = requests.get(url)\n",
    "with open('mnist.npz', 'wb') as f:\n",
    "    f.write(mnist.content)"
   ]
  },
  {
   "cell_type": "markdown",
   "metadata": {
    "slideshow": {
     "slide_type": "subslide"
    }
   },
   "source": [
    "### Extract features and targets"
   ]
  },
  {
   "cell_type": "markdown",
   "metadata": {},
   "source": [
    "MNIST dataset is already split into standard training set (first 60,000 images) and test set (last 10,000 images)."
   ]
  },
  {
   "cell_type": "code",
   "execution_count": 3,
   "metadata": {
    "execution": {
     "iopub.execute_input": "2022-01-14T13:47:27.050095Z",
     "iopub.status.busy": "2022-01-14T13:47:27.049474Z",
     "iopub.status.idle": "2022-01-14T13:47:27.380364Z",
     "shell.execute_reply": "2022-01-14T13:47:27.379873Z"
    }
   },
   "outputs": [
    {
     "data": {
      "text/plain": [
       "((60000,), (10000,), numpy.ndarray)"
      ]
     },
     "execution_count": 3,
     "metadata": {},
     "output_type": "execute_result"
    }
   ],
   "source": [
    "mnist = np.load('mnist.npz', allow_pickle=True)\n",
    "X_train, y_train = mnist['x_train'], mnist['y_train']\n",
    "X_test, y_test = mnist['x_test'], mnist['y_test']\n",
    "\n",
    "y_train.shape, y_test.shape, type(y_train)"
   ]
  },
  {
   "cell_type": "code",
   "execution_count": 4,
   "metadata": {
    "execution": {
     "iopub.execute_input": "2022-01-14T13:47:27.386888Z",
     "iopub.status.busy": "2022-01-14T13:47:27.385705Z",
     "iopub.status.idle": "2022-01-14T13:47:27.389004Z",
     "shell.execute_reply": "2022-01-14T13:47:27.388437Z"
    }
   },
   "outputs": [
    {
     "data": {
      "text/plain": [
       "((60000, 28, 28), (10000, 28, 28), numpy.ndarray)"
      ]
     },
     "execution_count": 4,
     "metadata": {},
     "output_type": "execute_result"
    }
   ],
   "source": [
    "X_train.shape, X_test.shape, type(X_train)"
   ]
  },
  {
   "cell_type": "markdown",
   "metadata": {
    "slideshow": {
     "slide_type": "fragment"
    }
   },
   "source": [
    "Each datum corresponds to a 28 x 28 image."
   ]
  },
  {
   "cell_type": "markdown",
   "metadata": {
    "slideshow": {
     "slide_type": "fragment"
    }
   },
   "source": [
    "Reshape X_train and X_test to a 2D array"
   ]
  },
  {
   "cell_type": "code",
   "execution_count": 5,
   "metadata": {
    "execution": {
     "iopub.execute_input": "2022-01-14T13:47:27.394062Z",
     "iopub.status.busy": "2022-01-14T13:47:27.392901Z",
     "iopub.status.idle": "2022-01-14T13:47:27.394666Z",
     "shell.execute_reply": "2022-01-14T13:47:27.395097Z"
    }
   },
   "outputs": [],
   "source": [
    "X_train = X_train.reshape(60000, 28*28)\n",
    "X_test = X_test.reshape(10000, 28*28)"
   ]
  },
  {
   "cell_type": "code",
   "execution_count": 6,
   "metadata": {
    "execution": {
     "iopub.execute_input": "2022-01-14T13:47:27.401140Z",
     "iopub.status.busy": "2022-01-14T13:47:27.399868Z",
     "iopub.status.idle": "2022-01-14T13:47:27.402959Z",
     "shell.execute_reply": "2022-01-14T13:47:27.402477Z"
    }
   },
   "outputs": [
    {
     "name": "stdout",
     "output_type": "stream",
     "text": [
      "28.0 28\n"
     ]
    }
   ],
   "source": [
    "import math\n",
    "n_float = np.sqrt(X_train.shape[1])\n",
    "n = math.floor(n_float)\n",
    "print(n_float, n)"
   ]
  },
  {
   "cell_type": "markdown",
   "metadata": {
    "slideshow": {
     "slide_type": "subslide"
    }
   },
   "source": [
    "### Plot image of digit"
   ]
  },
  {
   "cell_type": "code",
   "execution_count": 7,
   "metadata": {
    "execution": {
     "iopub.execute_input": "2022-01-14T13:47:27.409980Z",
     "iopub.status.busy": "2022-01-14T13:47:27.409380Z",
     "iopub.status.idle": "2022-01-14T13:47:28.338535Z",
     "shell.execute_reply": "2022-01-14T13:47:28.338973Z"
    }
   },
   "outputs": [
    {
     "data": {
      "image/png": "[encoded data removed]",
      "text/plain": [
       "<Figure size 432x288 with 1 Axes>"
      ]
     },
     "metadata": {
      "needs_background": "light"
     },
     "output_type": "display_data"
    }
   ],
   "source": [
    "%matplotlib inline\n",
    "import matplotlib\n",
    "import matplotlib.pyplot as plt\n",
    "plt.rcParams['axes.labelsize'] = 14\n",
    "plt.rcParams['xtick.labelsize'] = 12\n",
    "plt.rcParams['ytick.labelsize'] = 12\n",
    "\n",
    "some_digit = X_train[41000]\n",
    "some_digit_image = some_digit.reshape(n, n)\n",
    "plt.imshow(some_digit_image, cmap = matplotlib.cm.binary,\n",
    "           interpolation=\"nearest\")\n",
    "plt.axis(\"off\");"
   ]
  },
  {
   "cell_type": "markdown",
   "metadata": {
    "slideshow": {
     "slide_type": "subslide"
    },
    "tags": [
     "exercise_pointer"
    ]
   },
   "source": [
    "**Exercises:** *You can now complete Exercise 1 in the exercises associated with this lecture.*"
   ]
  },
  {
   "cell_type": "markdown",
   "metadata": {
    "slideshow": {
     "slide_type": "subslide"
    }
   },
   "source": [
    "### Plot selection of digits"
   ]
  },
  {
   "cell_type": "code",
   "execution_count": 8,
   "metadata": {
    "execution": {
     "iopub.execute_input": "2022-01-14T13:47:28.344751Z",
     "iopub.status.busy": "2022-01-14T13:47:28.343927Z",
     "iopub.status.idle": "2022-01-14T13:47:28.360142Z",
     "shell.execute_reply": "2022-01-14T13:47:28.360585Z"
    }
   },
   "outputs": [],
   "source": [
    "# Extract digits\n",
    "n_digits = 10\n",
    "n_images = 10\n",
    "example_images = np.zeros([n_images * n_digits, n*n])\n",
    "for i in range(n_digits):\n",
    "    example_images[i*n_images:(i+1)*n_images,:] =  X_train[np.where(y_train == i)][0:n_images,:]"
   ]
  },
  {
   "cell_type": "code",
   "execution_count": 9,
   "metadata": {
    "execution": {
     "iopub.execute_input": "2022-01-14T13:47:28.412931Z",
     "iopub.status.busy": "2022-01-14T13:47:28.412326Z",
     "iopub.status.idle": "2022-01-14T13:47:30.971791Z",
     "shell.execute_reply": "2022-01-14T13:47:30.972241Z"
    }
   },
   "outputs": [
    {
     "data": {
      "text/plain": [
       "<Figure size 720x720 with 0 Axes>"
      ]
     },
     "metadata": {},
     "output_type": "display_data"
    },
    {
     "data": {
      "image/png": "[encoded data removed]",
      "text/plain": [
       "<Figure size 576x576 with 100 Axes>"
      ]
     },
     "metadata": {},
     "output_type": "display_data"
    }
   ],
   "source": [
    "# Plot digits\n",
    "plt.figure(figsize=(10,10))\n",
    "fig, axes = plt.subplots(n_digits, n_images, figsize=(8, 8),\n",
    "                         subplot_kw={'xticks':[], 'yticks':[]},\n",
    "                         gridspec_kw=dict(hspace=0.1, wspace=0.1))\n",
    "\n",
    "for i, ax in enumerate(axes.flat):\n",
    "    ax.imshow(example_images[i].reshape(n,n), cmap='binary', interpolation='nearest')\n",
    "    ax.axis(\"off\")\n",
    "    ax.text(0.05, 0.05, str(i // n_images),\n",
    "            transform=ax.transAxes, color='green')"
   ]
  },
  {
   "cell_type": "code",
   "execution_count": 10,
   "metadata": {
    "execution": {
     "iopub.execute_input": "2022-01-14T13:47:30.977033Z",
     "iopub.status.busy": "2022-01-14T13:47:30.976527Z",
     "iopub.status.idle": "2022-01-14T13:47:30.978220Z",
     "shell.execute_reply": "2022-01-14T13:47:30.978636Z"
    }
   },
   "outputs": [],
   "source": [
    "def plot_digit(data):\n",
    "    image = data.reshape(n, n)\n",
    "    plt.imshow(image, cmap = matplotlib.cm.binary,\n",
    "               interpolation=\"nearest\")\n",
    "    plt.axis(\"off\");"
   ]
  },
  {
   "cell_type": "markdown",
   "metadata": {
    "slideshow": {
     "slide_type": "fragment"
    }
   },
   "source": [
    "Shuffle training data so not ordered by type."
   ]
  },
  {
   "cell_type": "code",
   "execution_count": 11,
   "metadata": {
    "execution": {
     "iopub.execute_input": "2022-01-14T13:47:30.984046Z",
     "iopub.status.busy": "2022-01-14T13:47:30.983493Z",
     "iopub.status.idle": "2022-01-14T13:47:31.010020Z",
     "shell.execute_reply": "2022-01-14T13:47:31.010526Z"
    }
   },
   "outputs": [],
   "source": [
    "# Shuffle training data\n",
    "import numpy as np\n",
    "shuffle_index = np.random.permutation(60000)\n",
    "X_train, y_train = X_train[shuffle_index], y_train[shuffle_index]"
   ]
  },
  {
   "cell_type": "markdown",
   "metadata": {
    "slideshow": {
     "slide_type": "slide"
    }
   },
   "source": [
    "## Binary classifier\n",
    "\n",
    "Construct a classify to distinguish between 5s and all other digits."
   ]
  },
  {
   "cell_type": "code",
   "execution_count": 12,
   "metadata": {
    "execution": {
     "iopub.execute_input": "2022-01-14T13:47:31.016392Z",
     "iopub.status.busy": "2022-01-14T13:47:31.015280Z",
     "iopub.status.idle": "2022-01-14T13:47:31.018807Z",
     "shell.execute_reply": "2022-01-14T13:47:31.018227Z"
    }
   },
   "outputs": [],
   "source": [
    "y_train_5 = (y_train == 5)\n",
    "y_test_5 = (y_test == 5)"
   ]
  },
  {
   "cell_type": "code",
   "execution_count": 13,
   "metadata": {
    "execution": {
     "iopub.execute_input": "2022-01-14T13:47:31.023753Z",
     "iopub.status.busy": "2022-01-14T13:47:31.021113Z",
     "iopub.status.idle": "2022-01-14T13:47:31.026000Z",
     "shell.execute_reply": "2022-01-14T13:47:31.026486Z"
    }
   },
   "outputs": [
    {
     "data": {
      "text/plain": [
       "array([False, False, False, ..., False,  True, False])"
      ]
     },
     "execution_count": 13,
     "metadata": {},
     "output_type": "execute_result"
    }
   ],
   "source": [
    "y_test_5"
   ]
  },
  {
   "cell_type": "markdown",
   "metadata": {
    "slideshow": {
     "slide_type": "subslide"
    }
   },
   "source": [
    "### Train\n",
    "\n",
    "Train a linear model using Stochastic Gradient Descent (good for large data-sets, as we will see later...)."
   ]
  },
  {
   "cell_type": "code",
   "execution_count": 14,
   "metadata": {
    "execution": {
     "iopub.execute_input": "2022-01-14T13:47:31.030873Z",
     "iopub.status.busy": "2022-01-14T13:47:31.030335Z",
     "iopub.status.idle": "2022-01-14T13:47:31.341531Z",
     "shell.execute_reply": "2022-01-14T13:47:31.340846Z"
    }
   },
   "outputs": [],
   "source": [
    "# disable convergence warning from early stopping\n",
    "from warnings import simplefilter\n",
    "from sklearn.exceptions import ConvergenceWarning\n",
    "simplefilter(\"ignore\", category=ConvergenceWarning)"
   ]
  },
  {
   "cell_type": "code",
   "execution_count": 15,
   "metadata": {
    "execution": {
     "iopub.execute_input": "2022-01-14T13:47:31.347021Z",
     "iopub.status.busy": "2022-01-14T13:47:31.346072Z",
     "iopub.status.idle": "2022-01-14T13:47:32.555230Z",
     "shell.execute_reply": "2022-01-14T13:47:32.555930Z"
    }
   },
   "outputs": [
    {
     "data": {
      "text/plain": [
       "SGDClassifier(max_iter=10, random_state=42)"
      ]
     },
     "execution_count": 15,
     "metadata": {},
     "output_type": "execute_result"
    }
   ],
   "source": [
    "from sklearn.linear_model import SGDClassifier\n",
    "sgd_clf = SGDClassifier(random_state=42, max_iter=10);\n",
    "sgd_clf.fit(X_train, y_train_5)"
   ]
  },
  {
   "cell_type": "markdown",
   "metadata": {
    "slideshow": {
     "slide_type": "subslide"
    }
   },
   "source": [
    "Recall extracted `some_digit` previously, which was a 5."
   ]
  },
  {
   "cell_type": "code",
   "execution_count": 16,
   "metadata": {
    "execution": {
     "iopub.execute_input": "2022-01-14T13:47:32.566922Z",
     "iopub.status.busy": "2022-01-14T13:47:32.566376Z",
     "iopub.status.idle": "2022-01-14T13:47:32.616800Z",
     "shell.execute_reply": "2022-01-14T13:47:32.617549Z"
    }
   },
   "outputs": [
    {
     "data": {
      "image/png": "[encoded data removed]",
      "text/plain": [
       "<Figure size 432x288 with 1 Axes>"
      ]
     },
     "metadata": {
      "needs_background": "light"
     },
     "output_type": "display_data"
    }
   ],
   "source": [
    "plot_digit(some_digit)"
   ]
  },
  {
   "cell_type": "markdown",
   "metadata": {
    "slideshow": {
     "slide_type": "fragment"
    }
   },
   "source": [
    "Predict class:"
   ]
  },
  {
   "cell_type": "code",
   "execution_count": 17,
   "metadata": {
    "execution": {
     "iopub.execute_input": "2022-01-14T13:47:32.620947Z",
     "iopub.status.busy": "2022-01-14T13:47:32.620412Z",
     "iopub.status.idle": "2022-01-14T13:47:32.626768Z",
     "shell.execute_reply": "2022-01-14T13:47:32.627448Z"
    }
   },
   "outputs": [
    {
     "data": {
      "text/plain": [
       "array([ True])"
      ]
     },
     "execution_count": 17,
     "metadata": {},
     "output_type": "execute_result"
    }
   ],
   "source": [
    "some_digit.shape\n",
    "\n",
    "sgd_clf.predict([some_digit])\n"
   ]
  },
  {
   "cell_type": "markdown",
   "metadata": {
    "slideshow": {
     "slide_type": "subslide"
    }
   },
   "source": [
    "### Test accuracy"
   ]
  },
  {
   "cell_type": "code",
   "execution_count": 18,
   "metadata": {
    "execution": {
     "iopub.execute_input": "2022-01-14T13:47:32.630904Z",
     "iopub.status.busy": "2022-01-14T13:47:32.629900Z",
     "iopub.status.idle": "2022-01-14T13:47:32.659645Z",
     "shell.execute_reply": "2022-01-14T13:47:32.660147Z"
    }
   },
   "outputs": [],
   "source": [
    "y_test = sgd_clf.predict(X_test)"
   ]
  },
  {
   "cell_type": "code",
   "execution_count": 19,
   "metadata": {
    "execution": {
     "iopub.execute_input": "2022-01-14T13:47:32.667949Z",
     "iopub.status.busy": "2022-01-14T13:47:32.667377Z",
     "iopub.status.idle": "2022-01-14T13:47:32.674583Z",
     "shell.execute_reply": "2022-01-14T13:47:32.675308Z"
    }
   },
   "outputs": [
    {
     "data": {
      "text/plain": [
       "0.9601"
      ]
     },
     "execution_count": 19,
     "metadata": {},
     "output_type": "execute_result"
    }
   ],
   "source": [
    "from sklearn.metrics import accuracy_score\n",
    "accuracy_score(y_test, y_test_5)"
   ]
  },
  {
   "cell_type": "markdown",
   "metadata": {
    "slideshow": {
     "slide_type": "subslide"
    }
   },
   "source": [
    "### Cross-validation"
   ]
  },
  {
   "cell_type": "markdown",
   "metadata": {
    "slideshow": {
     "slide_type": "subslide"
    }
   },
   "source": [
    "#### n-fold cross-validation\n",
    "\n",
    "<img src=\"https://raw.githubusercontent.com/astro-informatics/course_mlbd_images/master/Lecture04_Images/5-fold-CV.png\" width=\"700\"/>\n",
    "\n",
    "[Image credit: [VanderPlas](https://github.com/jakevdp/PythonDataScienceHandbook)]"
   ]
  },
  {
   "cell_type": "markdown",
   "metadata": {
    "slideshow": {
     "slide_type": "subslide"
    },
    "tags": [
     "exercise_pointer"
    ]
   },
   "source": [
    "**Exercises:** *You can now complete Exercises 2-3 in the exercises associated with this lecture.*"
   ]
  },
  {
   "cell_type": "markdown",
   "metadata": {
    "slideshow": {
     "slide_type": "subslide"
    }
   },
   "source": [
    "### Consider naive classifier \n",
    "\n",
    "Classify everying as not 5."
   ]
  },
  {
   "cell_type": "code",
   "execution_count": 20,
   "metadata": {
    "execution": {
     "iopub.execute_input": "2022-01-14T13:47:32.680577Z",
     "iopub.status.busy": "2022-01-14T13:47:32.680076Z",
     "iopub.status.idle": "2022-01-14T13:47:32.683907Z",
     "shell.execute_reply": "2022-01-14T13:47:32.683021Z"
    }
   },
   "outputs": [],
   "source": [
    "from sklearn.base import BaseEstimator\n",
    "class Never5Classifier(BaseEstimator):\n",
    "    def fit(self, X, y=None):\n",
    "        pass\n",
    "    def predict(self, X):\n",
    "        return np.zeros((len(X), 1), dtype=bool)"
   ]
  },
  {
   "cell_type": "markdown",
   "metadata": {
    "slideshow": {
     "slide_type": "subslide"
    }
   },
   "source": [
    "What accuracy expect?"
   ]
  },
  {
   "cell_type": "code",
   "execution_count": 21,
   "metadata": {
    "execution": {
     "iopub.execute_input": "2022-01-14T13:47:32.688415Z",
     "iopub.status.busy": "2022-01-14T13:47:32.687624Z",
     "iopub.status.idle": "2022-01-14T13:47:32.748825Z",
     "shell.execute_reply": "2022-01-14T13:47:32.749624Z"
    }
   },
   "outputs": [
    {
     "data": {
      "text/plain": [
       "array([0.909  , 0.90745, 0.9125 ])"
      ]
     },
     "execution_count": 21,
     "metadata": {},
     "output_type": "execute_result"
    }
   ],
   "source": [
    "from sklearn.model_selection import cross_val_score\n",
    "\n",
    "never_5_clf = Never5Classifier()\n",
    "cross_val_score(never_5_clf, X_train, y_train_5, cv=3, scoring=\"accuracy\")"
   ]
  },
  {
   "cell_type": "markdown",
   "metadata": {
    "slideshow": {
     "slide_type": "fragment"
    }
   },
   "source": [
    "Need to go beyond classification accuracy, especially for skewed datasets."
   ]
  },
  {
   "cell_type": "markdown",
   "metadata": {
    "slideshow": {
     "slide_type": "slide"
    }
   },
   "source": [
    "## Confusion matrix\n",
    "\n",
    "Can gain further insight into performance by examining confusion matrix."
   ]
  },
  {
   "cell_type": "markdown",
   "metadata": {
    "slideshow": {
     "slide_type": "subslide"
    }
   },
   "source": [
    "### Cross-validation prediction\n",
    "\n",
    "`cross_val_predict` performs K-fold cross-validation, returing predictions made on each test fold.  Get clean prediction on each test fold, i.e. clean prediction for each instance in the training set."
   ]
  },
  {
   "cell_type": "code",
   "execution_count": 22,
   "metadata": {
    "execution": {
     "iopub.execute_input": "2022-01-14T13:47:32.753441Z",
     "iopub.status.busy": "2022-01-14T13:47:32.752262Z",
     "iopub.status.idle": "2022-01-14T13:47:35.134290Z",
     "shell.execute_reply": "2022-01-14T13:47:35.135156Z"
    }
   },
   "outputs": [],
   "source": [
    "from sklearn.model_selection import cross_val_predict\n",
    "y_train_pred = cross_val_predict(sgd_clf, X_train, y_train_5, cv=3)"
   ]
  },
  {
   "cell_type": "markdown",
   "metadata": {
    "slideshow": {
     "slide_type": "subslide"
    }
   },
   "source": [
    "### Compute confusion matrix"
   ]
  },
  {
   "cell_type": "code",
   "execution_count": 23,
   "metadata": {
    "execution": {
     "iopub.execute_input": "2022-01-14T13:47:35.138950Z",
     "iopub.status.busy": "2022-01-14T13:47:35.137819Z",
     "iopub.status.idle": "2022-01-14T13:47:35.152587Z",
     "shell.execute_reply": "2022-01-14T13:47:35.153361Z"
    }
   },
   "outputs": [
    {
     "data": {
      "text/plain": [
       "array([[52953,  1626],\n",
       "       [  807,  4614]])"
      ]
     },
     "execution_count": 23,
     "metadata": {},
     "output_type": "execute_result"
    }
   ],
   "source": [
    "from sklearn.metrics import confusion_matrix\n",
    "conf_matrix = confusion_matrix(y_train_5, y_train_pred)\n",
    "conf_matrix"
   ]
  },
  {
   "cell_type": "markdown",
   "metadata": {},
   "source": [
    "Each row represents actual class, while each colum represents predicted class."
   ]
  },
  {
   "cell_type": "markdown",
   "metadata": {
    "slideshow": {
     "slide_type": "fragment"
    }
   },
   "source": [
    "### Perfect confusion matrix"
   ]
  },
  {
   "cell_type": "code",
   "execution_count": 24,
   "metadata": {
    "execution": {
     "iopub.execute_input": "2022-01-14T13:47:35.156822Z",
     "iopub.status.busy": "2022-01-14T13:47:35.155819Z",
     "iopub.status.idle": "2022-01-14T13:47:35.169669Z",
     "shell.execute_reply": "2022-01-14T13:47:35.170409Z"
    }
   },
   "outputs": [
    {
     "data": {
      "text/plain": [
       "array([[54579,     0],\n",
       "       [    0,  5421]])"
      ]
     },
     "execution_count": 24,
     "metadata": {},
     "output_type": "execute_result"
    }
   ],
   "source": [
    "y_train_perfect_predictions = y_train_5\n",
    "confusion_matrix(y_train_5, y_train_perfect_predictions)"
   ]
  },
  {
   "cell_type": "markdown",
   "metadata": {
    "slideshow": {
     "slide_type": "subslide"
    }
   },
   "source": [
    "### Confusion matrix shows true/false-positive/negative classifications\n",
    "\n",
    "- True-positive $\\text{TP}$: number of true positives (i.e. *correctly classified* as *positive*)\n",
    "- False-positive $\\text{FP}$: number of false positives (i.e. *incorrectly classified* as *positive*)\n",
    "- True-negative $\\text{TN}$: number of true negatives (i.e. *correctly classified* as *negative*)\n",
    "- False-negative $\\text{FN}$: number of false negatives (i.e. *incorrectly classified* as *negative*)\n"
   ]
  },
  {
   "cell_type": "markdown",
   "metadata": {},
   "source": [
    "<table>\n",
    "  <tr>\n",
    "    <td></td>\n",
    "    <td></td>\n",
    "    <td>Predicted</td>\n",
    "    <td></td>\n",
    "  </tr>\n",
    "  <tr>\n",
    "    <td></td>\n",
    "    <td></td>\n",
    "    <td>Negative</td>\n",
    "    <td>Positive</td>\n",
    "  </tr>\n",
    "  <tr>\n",
    "    <td>Actual</td>\n",
    "    <td>Negative</td>\n",
    "    <td>TN</td>\n",
    "    <td>FP</td>\n",
    "  </tr>\n",
    "  <tr>\n",
    "    <td></td>\n",
    "    <td>Positive</td>\n",
    "    <td>FN</td>\n",
    "    <td>TP</td>\n",
    "  </tr>\n",
    "</table>"
   ]
  },
  {
   "cell_type": "markdown",
   "metadata": {
    "slideshow": {
     "slide_type": "subslide"
    },
    "tags": [
     "exercise_pointer"
    ]
   },
   "source": [
    "**Exercises:** *You can now complete Exercise 4 in the exercises associated with this lecture.*"
   ]
  },
  {
   "cell_type": "markdown",
   "metadata": {
    "slideshow": {
     "slide_type": "slide"
    }
   },
   "source": [
    "## Precision and recall"
   ]
  },
  {
   "cell_type": "markdown",
   "metadata": {},
   "source": [
    "- **Precision**: of predicted positives, proportion that are correctly classified (also called *positive predictive value*).\n",
    "$\\text{precision} = \\frac{\\text{TP}}{\\text{TP} + \\text{FP}}$\n",
    "\n",
    "\n",
    "- **Recall**: of actual positives, proportion that are correctly classified (also called *true positive rate* or *sensitivity*).\n",
    "$\\text{recall} = \\frac{\\text{TP}}{\\text{TP} + \\text{FN}}$"
   ]
  },
  {
   "cell_type": "markdown",
   "metadata": {
    "slideshow": {
     "slide_type": "-"
    }
   },
   "source": [
    "Remember:\n",
    "<table>\n",
    "  <tr>\n",
    "    <td></td>\n",
    "    <td></td>\n",
    "    <td>Predicted</td>\n",
    "    <td></td>\n",
    "  </tr>\n",
    "  <tr>\n",
    "    <td></td>\n",
    "    <td></td>\n",
    "    <td>Negative</td>\n",
    "    <td>Positive</td>\n",
    "  </tr>\n",
    "  <tr>\n",
    "    <td>Actual</td>\n",
    "    <td>Negative</td>\n",
    "    <td>TN</td>\n",
    "    <td>FP</td>\n",
    "  </tr>\n",
    "  <tr>\n",
    "    <td></td>\n",
    "    <td>Positive</td>\n",
    "    <td>FN</td>\n",
    "    <td>TP</td>\n",
    "  </tr>\n",
    "</table>"
   ]
  },
  {
   "cell_type": "markdown",
   "metadata": {
    "slideshow": {
     "slide_type": "subslide"
    },
    "tags": [
     "exercise_pointer"
    ]
   },
   "source": [
    "**Exercises:** *You can now complete Exercise 5 in the exercises associated with this lecture.*"
   ]
  },
  {
   "cell_type": "markdown",
   "metadata": {
    "slideshow": {
     "slide_type": "subslide"
    }
   },
   "source": [
    "### $F_1$ score"
   ]
  },
  {
   "cell_type": "markdown",
   "metadata": {},
   "source": [
    "$F_1$ score is the *harmonic mean* of the precision and recall."
   ]
  },
  {
   "cell_type": "markdown",
   "metadata": {},
   "source": [
    "$$F_1 = \\frac{2}{1/\\text{precision} + 1/\\text{recall}} = 2 \\frac{\\text{precision} \\times \\text{recall}}{\\text{precision} + \\text{recall}} = \\frac{\\text{TP}}{\\text{TP} + \\frac{\\text{FN}+\\text{FP}}{2}}$$"
   ]
  },
  {
   "cell_type": "markdown",
   "metadata": {
    "slideshow": {
     "slide_type": "fragment"
    }
   },
   "source": [
    "$F_1$ favours classifiers that have similar (and high) precision and recall.\n",
    "\n",
    "Sometimes may wish to favour precision or recall."
   ]
  },
  {
   "cell_type": "markdown",
   "metadata": {
    "slideshow": {
     "slide_type": "subslide"
    },
    "tags": [
     "exercise_pointer"
    ]
   },
   "source": [
    "**Exercises:** *You can now complete Exercise 6 in the exercises associated with this lecture.*"
   ]
  },
  {
   "cell_type": "markdown",
   "metadata": {
    "slideshow": {
     "slide_type": "subslide"
    }
   },
   "source": [
    "### Precision-recall tradeoff"
   ]
  },
  {
   "cell_type": "markdown",
   "metadata": {},
   "source": [
    "Under the hood the classifier computes a *score*.  Binary decision is then made depending on whether score exceeds some *threshold*.\n",
    "\n",
    "By changing the threshold, one can change the tradeoff between\n",
    "precision and recall."
   ]
  },
  {
   "cell_type": "markdown",
   "metadata": {
    "slideshow": {
     "slide_type": "subslide"
    }
   },
   "source": [
    "Scikit-Learn does not let you set the threshold directly but can access scores (confidence score for a sample is, e.g., the signed distance of that sample to classifying hyperplane)."
   ]
  },
  {
   "cell_type": "code",
   "execution_count": 25,
   "metadata": {
    "execution": {
     "iopub.execute_input": "2022-01-14T13:47:35.174340Z",
     "iopub.status.busy": "2022-01-14T13:47:35.173323Z",
     "iopub.status.idle": "2022-01-14T13:47:35.179750Z",
     "shell.execute_reply": "2022-01-14T13:47:35.180474Z"
    }
   },
   "outputs": [
    {
     "data": {
      "text/plain": [
       "array([24299.40524152])"
      ]
     },
     "execution_count": 25,
     "metadata": {},
     "output_type": "execute_result"
    }
   ],
   "source": [
    "y_scores = sgd_clf.decision_function([some_digit])\n",
    "y_scores"
   ]
  },
  {
   "cell_type": "markdown",
   "metadata": {
    "slideshow": {
     "slide_type": "fragment"
    }
   },
   "source": [
    "Can then make prediction for given threshold."
   ]
  },
  {
   "cell_type": "code",
   "execution_count": 26,
   "metadata": {
    "execution": {
     "iopub.execute_input": "2022-01-14T13:47:35.183785Z",
     "iopub.status.busy": "2022-01-14T13:47:35.182763Z",
     "iopub.status.idle": "2022-01-14T13:47:35.188968Z",
     "shell.execute_reply": "2022-01-14T13:47:35.189705Z"
    }
   },
   "outputs": [
    {
     "data": {
      "text/plain": [
       "array([ True])"
      ]
     },
     "execution_count": 26,
     "metadata": {},
     "output_type": "execute_result"
    }
   ],
   "source": [
    "threshold = 0\n",
    "y_some_digit_pred = (y_scores > threshold)\n",
    "y_some_digit_pred"
   ]
  },
  {
   "cell_type": "code",
   "execution_count": 27,
   "metadata": {
    "execution": {
     "iopub.execute_input": "2022-01-14T13:47:35.192903Z",
     "iopub.status.busy": "2022-01-14T13:47:35.191885Z",
     "iopub.status.idle": "2022-01-14T13:47:35.198086Z",
     "shell.execute_reply": "2022-01-14T13:47:35.198801Z"
    }
   },
   "outputs": [
    {
     "data": {
      "text/plain": [
       "array([False])"
      ]
     },
     "execution_count": 27,
     "metadata": {},
     "output_type": "execute_result"
    }
   ],
   "source": [
    "threshold = 200000\n",
    "y_some_digit_pred = (y_scores > threshold)\n",
    "y_some_digit_pred"
   ]
  },
  {
   "cell_type": "markdown",
   "metadata": {
    "slideshow": {
     "slide_type": "subslide"
    }
   },
   "source": [
    "#### Compute precision and recall for range of thresholds"
   ]
  },
  {
   "cell_type": "code",
   "execution_count": 28,
   "metadata": {
    "execution": {
     "iopub.execute_input": "2022-01-14T13:47:35.206318Z",
     "iopub.status.busy": "2022-01-14T13:47:35.201015Z",
     "iopub.status.idle": "2022-01-14T13:47:37.606588Z",
     "shell.execute_reply": "2022-01-14T13:47:37.607418Z"
    }
   },
   "outputs": [],
   "source": [
    "y_scores = cross_val_predict(sgd_clf, X_train, y_train_5, cv=3,\n",
    "                             method=\"decision_function\")"
   ]
  },
  {
   "cell_type": "code",
   "execution_count": 29,
   "metadata": {
    "execution": {
     "iopub.execute_input": "2022-01-14T13:47:37.610592Z",
     "iopub.status.busy": "2022-01-14T13:47:37.609888Z",
     "iopub.status.idle": "2022-01-14T13:47:37.623875Z",
     "shell.execute_reply": "2022-01-14T13:47:37.624563Z"
    }
   },
   "outputs": [],
   "source": [
    "from sklearn.metrics import precision_recall_curve\n",
    "precisions, recalls, thresholds = precision_recall_curve(y_train_5, y_scores)"
   ]
  },
  {
   "cell_type": "code",
   "execution_count": 30,
   "metadata": {
    "execution": {
     "iopub.execute_input": "2022-01-14T13:47:37.627683Z",
     "iopub.status.busy": "2022-01-14T13:47:37.627141Z",
     "iopub.status.idle": "2022-01-14T13:47:37.813820Z",
     "shell.execute_reply": "2022-01-14T13:47:37.812601Z"
    }
   },
   "outputs": [
    {
     "data": {
      "text/plain": [
       "(-700000.0, 700000.0)"
      ]
     },
     "execution_count": 30,
     "metadata": {},
     "output_type": "execute_result"
    },
    {
     "data": {
      "image/png": "[encoded data removed]",
      "text/plain": [
       "<Figure size 720x360 with 1 Axes>"
      ]
     },
     "metadata": {
      "needs_background": "light"
     },
     "output_type": "display_data"
    }
   ],
   "source": [
    "def plot_precision_recall_vs_threshold(precisions, recalls, thresholds):\n",
    "    plt.plot(thresholds, precisions[:-1], \"b--\", label=\"Precision\", linewidth=2)\n",
    "    plt.plot(thresholds, recalls[:-1], \"g-\", label=\"Recall\", linewidth=2)\n",
    "    plt.xlabel(\"Threshold\", fontsize=16)\n",
    "    plt.legend(loc=\"upper left\", fontsize=16)\n",
    "    plt.ylim([0, 1])\n",
    "\n",
    "plt.figure(figsize=(10, 5))\n",
    "plot_precision_recall_vs_threshold(precisions, recalls, thresholds)\n",
    "plt.xlim([-700000, 700000])"
   ]
  },
  {
   "cell_type": "markdown",
   "metadata": {
    "slideshow": {
     "slide_type": "subslide"
    }
   },
   "source": [
    "*Raising* the threshold *increases precision* and *reduces recall*.\n",
    "\n",
    "Can select threshold of appropriate trade-off for problem at hand."
   ]
  },
  {
   "cell_type": "markdown",
   "metadata": {
    "slideshow": {
     "slide_type": "fragment"
    }
   },
   "source": [
    "Note recall curve smoother than precision since recall related to actual positives and precision related to predicted positives."
   ]
  },
  {
   "cell_type": "markdown",
   "metadata": {
    "slideshow": {
     "slide_type": "slide"
    }
   },
   "source": [
    "## ROC curve"
   ]
  },
  {
   "cell_type": "markdown",
   "metadata": {},
   "source": [
    "*Receiver operating characteristic* (ROC) curve plots *true positive rate* (i.e. recall) against the *false positive rate* for different *thresholds*."
   ]
  },
  {
   "cell_type": "markdown",
   "metadata": {
    "slideshow": {
     "slide_type": "subslide"
    },
    "tags": [
     "exercise_pointer"
    ]
   },
   "source": [
    "**Exercises:** *You can now complete Exercise 7 in the exercises associated with this lecture.*"
   ]
  },
  {
   "cell_type": "markdown",
   "metadata": {
    "slideshow": {
     "slide_type": "subslide"
    }
   },
   "source": [
    "### Plot ROC curve"
   ]
  },
  {
   "cell_type": "code",
   "execution_count": 31,
   "metadata": {
    "execution": {
     "iopub.execute_input": "2022-01-14T13:47:37.819026Z",
     "iopub.status.busy": "2022-01-14T13:47:37.818254Z",
     "iopub.status.idle": "2022-01-14T13:47:37.831561Z",
     "shell.execute_reply": "2022-01-14T13:47:37.831062Z"
    }
   },
   "outputs": [],
   "source": [
    "from sklearn.metrics import roc_curve\n",
    "fpr, tpr, thresholds = roc_curve(y_train_5, y_scores)"
   ]
  },
  {
   "cell_type": "code",
   "execution_count": 32,
   "metadata": {
    "execution": {
     "iopub.execute_input": "2022-01-14T13:47:37.952084Z",
     "iopub.status.busy": "2022-01-14T13:47:37.833837Z",
     "iopub.status.idle": "2022-01-14T13:47:38.083874Z",
     "shell.execute_reply": "2022-01-14T13:47:38.084332Z"
    }
   },
   "outputs": [
    {
     "data": {
      "image/png": "[encoded data removed]",
      "text/plain": [
       "<Figure size 504x360 with 1 Axes>"
      ]
     },
     "metadata": {
      "needs_background": "light"
     },
     "output_type": "display_data"
    }
   ],
   "source": [
    "def plot_roc_curve(fpr, tpr, label=None):\n",
    "    plt.plot(fpr, tpr, linewidth=2, label=label)\n",
    "    plt.plot([0, 1], [0, 1], 'k--')\n",
    "    plt.axis([0, 1, 0, 1])\n",
    "    plt.xlabel('False Positive Rate (FPR)', fontsize=16)\n",
    "    plt.ylabel('True Positive Rate (TPR)', fontsize=16)\n",
    "\n",
    "plt.figure(figsize=(7, 5))\n",
    "plot_roc_curve(fpr, tpr)"
   ]
  },
  {
   "cell_type": "markdown",
   "metadata": {
    "slideshow": {
     "slide_type": "fragment"
    }
   },
   "source": [
    "Dashed line corresponds to random classifier.\n",
    "\n",
    "Again, there is a trade-off.  As the threshold is reduced to increase the true positive rate, we get a larger false positive rate."
   ]
  },
  {
   "cell_type": "markdown",
   "metadata": {
    "slideshow": {
     "slide_type": "subslide"
    },
    "tags": [
     "exercise_pointer"
    ]
   },
   "source": [
    "**Exercises:** *You can now complete Exercise 8 in the exercises associated with this lecture.*"
   ]
  },
  {
   "cell_type": "markdown",
   "metadata": {
    "slideshow": {
     "slide_type": "subslide"
    }
   },
   "source": [
    "### Area under the ROC curve\n",
    "\n",
    "Area under the ROC curve (AUC) is a common performance metric."
   ]
  },
  {
   "cell_type": "code",
   "execution_count": 33,
   "metadata": {
    "execution": {
     "iopub.execute_input": "2022-01-14T13:47:38.087285Z",
     "iopub.status.busy": "2022-01-14T13:47:38.086628Z",
     "iopub.status.idle": "2022-01-14T13:47:38.110907Z",
     "shell.execute_reply": "2022-01-14T13:47:38.110433Z"
    }
   },
   "outputs": [
    {
     "data": {
      "text/plain": [
       "0.9668396102663849"
      ]
     },
     "execution_count": 33,
     "metadata": {},
     "output_type": "execute_result"
    }
   ],
   "source": [
    "from sklearn.metrics import roc_auc_score\n",
    "roc_auc_score(y_train_5, y_scores)"
   ]
  },
  {
   "cell_type": "markdown",
   "metadata": {
    "slideshow": {
     "slide_type": "subslide"
    },
    "tags": [
     "exercise_pointer"
    ]
   },
   "source": [
    "**Exercises:** *You can now complete Exercise 9 in the exercises associated with this lecture.*"
   ]
  },
  {
   "cell_type": "markdown",
   "metadata": {
    "slideshow": {
     "slide_type": "subslide"
    }
   },
   "source": [
    "### Comparing classifier ROC curves"
   ]
  },
  {
   "cell_type": "code",
   "execution_count": 34,
   "metadata": {
    "execution": {
     "iopub.execute_input": "2022-01-14T13:47:38.115474Z",
     "iopub.status.busy": "2022-01-14T13:47:38.114936Z",
     "iopub.status.idle": "2022-01-14T13:48:43.130454Z",
     "shell.execute_reply": "2022-01-14T13:48:43.129924Z"
    }
   },
   "outputs": [],
   "source": [
    "from sklearn.ensemble import RandomForestClassifier\n",
    "forest_clf = RandomForestClassifier(random_state=42)\n",
    "y_probas_forest = cross_val_predict(forest_clf, X_train, y_train_5, cv=3,\n",
    "                                    method=\"predict_proba\")"
   ]
  },
  {
   "cell_type": "code",
   "execution_count": 35,
   "metadata": {
    "execution": {
     "iopub.execute_input": "2022-01-14T13:48:43.134739Z",
     "iopub.status.busy": "2022-01-14T13:48:43.134177Z",
     "iopub.status.idle": "2022-01-14T13:48:43.143313Z",
     "shell.execute_reply": "2022-01-14T13:48:43.142830Z"
    }
   },
   "outputs": [],
   "source": [
    "y_scores_forest = y_probas_forest[:, 1] # score = proba of positive class\n",
    "fpr_forest, tpr_forest, thresholds_forest = roc_curve(y_train_5,y_scores_forest)"
   ]
  },
  {
   "cell_type": "code",
   "execution_count": 36,
   "metadata": {
    "execution": {
     "iopub.execute_input": "2022-01-14T13:48:43.148456Z",
     "iopub.status.busy": "2022-01-14T13:48:43.147946Z",
     "iopub.status.idle": "2022-01-14T13:48:43.317080Z",
     "shell.execute_reply": "2022-01-14T13:48:43.316246Z"
    }
   },
   "outputs": [
    {
     "data": {
      "text/plain": [
       "<matplotlib.legend.Legend at 0x7f7327e04400>"
      ]
     },
     "execution_count": 36,
     "metadata": {},
     "output_type": "execute_result"
    },
    {
     "data": {
      "image/png": "[encoded data removed]",
      "text/plain": [
       "<Figure size 576x432 with 1 Axes>"
      ]
     },
     "metadata": {
      "needs_background": "light"
     },
     "output_type": "display_data"
    }
   ],
   "source": [
    "plt.figure(figsize=(8, 6))\n",
    "plt.plot(fpr, tpr, \"b:\", linewidth=2, label=\"SGD\")\n",
    "plot_roc_curve(fpr_forest, tpr_forest, \"Random Forest\")\n",
    "plt.legend(loc=\"lower right\", fontsize=16)"
   ]
  },
  {
   "cell_type": "markdown",
   "metadata": {
    "slideshow": {
     "slide_type": "subslide"
    },
    "tags": [
     "inclass_exercise"
    ]
   },
   "source": [
    "### Exercise: from the ROC curve, which method appears to work better?"
   ]
  },
  {
   "cell_type": "markdown",
   "metadata": {
    "slideshow": {
     "slide_type": "fragment"
    },
    "tags": [
     "solution",
     "inclass_exercise"
    ]
   },
   "source": [
    "Random Forests since get closer to the ideal point (i.e. top left of plot)."
   ]
  },
  {
   "cell_type": "markdown",
   "metadata": {
    "slideshow": {
     "slide_type": "subslide"
    }
   },
   "source": [
    "### Comparing metrics"
   ]
  },
  {
   "cell_type": "code",
   "execution_count": 37,
   "metadata": {
    "execution": {
     "iopub.execute_input": "2022-01-14T13:48:43.321778Z",
     "iopub.status.busy": "2022-01-14T13:48:43.321204Z",
     "iopub.status.idle": "2022-01-14T13:48:43.356910Z",
     "shell.execute_reply": "2022-01-14T13:48:43.357599Z"
    }
   },
   "outputs": [
    {
     "data": {
      "text/plain": [
       "(0.9983631764491033, 0.9668396102663849)"
      ]
     },
     "execution_count": 37,
     "metadata": {},
     "output_type": "execute_result"
    }
   ],
   "source": [
    "# AUC\n",
    "roc_auc_score(y_train_5, y_scores_forest), roc_auc_score(y_train_5, y_scores)"
   ]
  },
  {
   "cell_type": "code",
   "execution_count": 38,
   "metadata": {
    "execution": {
     "iopub.execute_input": "2022-01-14T13:48:43.362669Z",
     "iopub.status.busy": "2022-01-14T13:48:43.362118Z",
     "iopub.status.idle": "2022-01-14T13:49:48.642275Z",
     "shell.execute_reply": "2022-01-14T13:49:48.641709Z"
    }
   },
   "outputs": [
    {
     "data": {
      "text/plain": [
       "(0.9890893831305078, 0.739423076923077)"
      ]
     },
     "execution_count": 38,
     "metadata": {},
     "output_type": "execute_result"
    }
   ],
   "source": [
    "# Precision\n",
    "from sklearn.metrics import precision_score, recall_score, f1_score\n",
    "\n",
    "y_train_pred_forest = cross_val_predict(forest_clf, X_train, y_train_5, cv=3)\n",
    "precision_score(y_train_5, y_train_pred_forest), precision_score(y_train_5, y_train_pred)"
   ]
  },
  {
   "cell_type": "code",
   "execution_count": 39,
   "metadata": {
    "execution": {
     "iopub.execute_input": "2022-01-14T13:49:48.645841Z",
     "iopub.status.busy": "2022-01-14T13:49:48.644515Z",
     "iopub.status.idle": "2022-01-14T13:49:48.684703Z",
     "shell.execute_reply": "2022-01-14T13:49:48.684234Z"
    }
   },
   "outputs": [
    {
     "data": {
      "text/plain": [
       "(0.8695812580704667, 0.8511344770337577)"
      ]
     },
     "execution_count": 39,
     "metadata": {},
     "output_type": "execute_result"
    }
   ],
   "source": [
    "# Recall\n",
    "recall_score(y_train_5, y_train_pred_forest), recall_score(y_train_5, y_train_pred)"
   ]
  },
  {
   "cell_type": "code",
   "execution_count": 40,
   "metadata": {
    "execution": {
     "iopub.execute_input": "2022-01-14T13:49:48.688182Z",
     "iopub.status.busy": "2022-01-14T13:49:48.686927Z",
     "iopub.status.idle": "2022-01-14T13:49:48.728241Z",
     "shell.execute_reply": "2022-01-14T13:49:48.727739Z"
    }
   },
   "outputs": [
    {
     "data": {
      "text/plain": [
       "(0.9254932757435947, 0.7913558013892462)"
      ]
     },
     "execution_count": 40,
     "metadata": {},
     "output_type": "execute_result"
    }
   ],
   "source": [
    "# F_1\n",
    "f1_score(y_train_5, y_train_pred_forest), f1_score(y_train_5, y_train_pred)"
   ]
  },
  {
   "cell_type": "markdown",
   "metadata": {
    "slideshow": {
     "slide_type": "slide"
    }
   },
   "source": [
    "## Progress so far"
   ]
  },
  {
   "cell_type": "code",
   "execution_count": 41,
   "metadata": {
    "execution": {
     "iopub.execute_input": "2022-01-14T13:49:48.734679Z",
     "iopub.status.busy": "2022-01-14T13:49:48.734126Z",
     "iopub.status.idle": "2022-01-14T13:49:48.894409Z",
     "shell.execute_reply": "2022-01-14T13:49:48.894871Z"
    }
   },
   "outputs": [
    {
     "data": {
      "image/jpeg": "[encoded data removed]",
      "text/html": [
       "\n",
       "        <iframe\n",
       "            width=\"560\"\n",
       "            height=\"315\"\n",
       "            src=\"https://www.youtube.com/embed/pqTntG1RXSY\"\n",
       "            frameborder=\"0\"\n",
       "            allowfullscreen\n",
       "            \n",
       "        ></iframe>\n",
       "        "
      ],
      "text/plain": [
       "<IPython.lib.display.YouTubeVideo at 0x7f732b092b50>"
      ]
     },
     "execution_count": 41,
     "metadata": {},
     "output_type": "execute_result"
    }
   ],
   "source": [
    "from IPython.display import YouTubeVideo\n",
    "YouTubeVideo(\"pqTntG1RXSY\", width=\"560\", height=\"315\")"
   ]
  },
  {
   "cell_type": "markdown",
   "metadata": {
    "slideshow": {
     "slide_type": "slide"
    }
   },
   "source": [
    "## Multiclass classification"
   ]
  },
  {
   "cell_type": "markdown",
   "metadata": {},
   "source": [
    "Binary classifiers distinguish between two classes.\n",
    "Multiclass classifiers can distinguish between more than two classes.\n",
    "\n",
    "Some algorithms can handle multiple classes directly (e.g. Random Forests, naive Bayes).\n",
    "Others are strictly binary classifiers (e.g. Support Vector Machines, Linear classifiers)."
   ]
  },
  {
   "cell_type": "markdown",
   "metadata": {
    "slideshow": {
     "slide_type": "subslide"
    }
   },
   "source": [
    "### Multiclass classification strategies\n",
    "\n",
    "\n",
    "However, there are various strategies that can be used to perform multiclass classification with binary classifiers."
   ]
  },
  {
   "cell_type": "markdown",
   "metadata": {
    "slideshow": {
     "slide_type": "fragment"
    }
   },
   "source": [
    "- **One-versus-rest (OvR) / one-versus-all (OvA)**: train a binary classifier for each class, then select classification with greatest score across classifiers \n",
    "<br>(e.g. train a binary classifier for each digit)."
   ]
  },
  {
   "cell_type": "markdown",
   "metadata": {
    "slideshow": {
     "slide_type": "fragment"
    }
   },
   "source": [
    "- **One-versus-one (OvO)**: train a binary classifier for each pair of classes, then select classification that wins most duels \n",
    "<br>(e.g. train a binary classifier for each pairs of digits: 0 vs 1, 0 vs 2, ..., 1 vs 2, 1 vs 3, ...)."
   ]
  },
  {
   "cell_type": "markdown",
   "metadata": {
    "slideshow": {
     "slide_type": "subslide"
    }
   },
   "source": [
    "### Comparison of multiclass classification strategies"
   ]
  },
  {
   "cell_type": "markdown",
   "metadata": {},
   "source": [
    "**One-versus-rest (OvR)**:\n",
    "- $N$ classifiers for $N$ classes\n",
    "- each classifier uses all of the training data\n",
    "\n",
    "$\\Rightarrow$ requires training relatively *few classifiers* but training each classifier can be *slow*."
   ]
  },
  {
   "cell_type": "markdown",
   "metadata": {
    "slideshow": {
     "slide_type": "fragment"
    }
   },
   "source": [
    "**One-versus-one (OvO)**:\n",
    "- $N(N-1)/2$ classifiers  for $N$ classes\n",
    "- each classifier uses a subset of the training data (typically much smaller than overall training dataset)\n",
    "\n",
    "$\\Rightarrow$ requires training *many* classifiers but training each classifier can be *fast*."
   ]
  },
  {
   "cell_type": "markdown",
   "metadata": {
    "slideshow": {
     "slide_type": "subslide"
    }
   },
   "source": [
    "### Preferred approach\n",
    "\n",
    "Unless training binary classifier is very slow with large data-sets, OvR usually preferred."
   ]
  },
  {
   "cell_type": "markdown",
   "metadata": {
    "slideshow": {
     "slide_type": "fragment"
    }
   },
   "source": [
    "In Scikit-Learn, if try to use binary classifier for a multiclass classification problem, OvR is automatically run."
   ]
  },
  {
   "cell_type": "code",
   "execution_count": 42,
   "metadata": {
    "execution": {
     "iopub.execute_input": "2022-01-14T13:49:48.902452Z",
     "iopub.status.busy": "2022-01-14T13:49:48.901897Z",
     "iopub.status.idle": "2022-01-14T13:49:58.692371Z",
     "shell.execute_reply": "2022-01-14T13:49:58.691767Z"
    }
   },
   "outputs": [
    {
     "data": {
      "text/plain": [
       "array([5], dtype=uint8)"
      ]
     },
     "execution_count": 42,
     "metadata": {},
     "output_type": "execute_result"
    }
   ],
   "source": [
    "sgd_clf.fit(X_train, y_train)\n",
    "sgd_clf.predict([some_digit])"
   ]
  },
  {
   "cell_type": "markdown",
   "metadata": {
    "slideshow": {
     "slide_type": "subslide"
    }
   },
   "source": [
    "Can see OvR\n",
    "performed by inspecting scores, where we have a score per classifier.  \n",
    "\n",
    "The 5th score (starting from 0) is clearly largest."
   ]
  },
  {
   "cell_type": "code",
   "execution_count": 43,
   "metadata": {
    "execution": {
     "iopub.execute_input": "2022-01-14T13:49:58.698221Z",
     "iopub.status.busy": "2022-01-14T13:49:58.697547Z",
     "iopub.status.idle": "2022-01-14T13:49:58.701314Z",
     "shell.execute_reply": "2022-01-14T13:49:58.700860Z"
    }
   },
   "outputs": [
    {
     "data": {
      "text/plain": [
       "array([[ -81742.80600673, -226403.87485225, -310042.19433877,\n",
       "        -173577.43026798,  -82855.74343468,   39922.35938292,\n",
       "        -183200.20815396,   10437.2327332 , -240036.68142135,\n",
       "        -160691.66786235]])"
      ]
     },
     "execution_count": 43,
     "metadata": {},
     "output_type": "execute_result"
    }
   ],
   "source": [
    "some_digit_scores = sgd_clf.decision_function([some_digit])\n",
    "some_digit_scores"
   ]
  },
  {
   "cell_type": "code",
   "execution_count": 44,
   "metadata": {
    "execution": {
     "iopub.execute_input": "2022-01-14T13:49:58.705594Z",
     "iopub.status.busy": "2022-01-14T13:49:58.705061Z",
     "iopub.status.idle": "2022-01-14T13:49:58.710458Z",
     "shell.execute_reply": "2022-01-14T13:49:58.710879Z"
    }
   },
   "outputs": [
    {
     "data": {
      "text/plain": [
       "array([0, 1, 2, 3, 4, 5, 6, 7, 8, 9], dtype=uint8)"
      ]
     },
     "execution_count": 44,
     "metadata": {},
     "output_type": "execute_result"
    }
   ],
   "source": [
    "sgd_clf.classes_"
   ]
  },
  {
   "cell_type": "code",
   "execution_count": 45,
   "metadata": {
    "execution": {
     "iopub.execute_input": "2022-01-14T13:49:58.716390Z",
     "iopub.status.busy": "2022-01-14T13:49:58.715423Z",
     "iopub.status.idle": "2022-01-14T13:49:58.718175Z",
     "shell.execute_reply": "2022-01-14T13:49:58.718625Z"
    }
   },
   "outputs": [
    {
     "data": {
      "text/plain": [
       "5"
      ]
     },
     "execution_count": 45,
     "metadata": {},
     "output_type": "execute_result"
    }
   ],
   "source": [
    "sgd_clf.classes_[np.argmax(some_digit_scores)]"
   ]
  },
  {
   "cell_type": "markdown",
   "metadata": {
    "slideshow": {
     "slide_type": "subslide"
    }
   },
   "source": [
    "### OvO with Scikit-Learn"
   ]
  },
  {
   "cell_type": "markdown",
   "metadata": {},
   "source": [
    "Can also perform OvO multiclass classification."
   ]
  },
  {
   "cell_type": "code",
   "execution_count": 46,
   "metadata": {
    "execution": {
     "iopub.execute_input": "2022-01-14T13:49:58.723581Z",
     "iopub.status.busy": "2022-01-14T13:49:58.722620Z",
     "iopub.status.idle": "2022-01-14T13:50:08.743021Z",
     "shell.execute_reply": "2022-01-14T13:50:08.742556Z"
    }
   },
   "outputs": [
    {
     "data": {
      "text/plain": [
       "(array([5], dtype=uint8), 45)"
      ]
     },
     "execution_count": 46,
     "metadata": {},
     "output_type": "execute_result"
    }
   ],
   "source": [
    "from sklearn.multiclass import OneVsOneClassifier\n",
    "ovo_clf = OneVsOneClassifier(SGDClassifier(random_state=42, max_iter=10))\n",
    "ovo_clf.fit(X_train, y_train)\n",
    "ovo_clf.predict([some_digit]), len(ovo_clf.estimators_)"
   ]
  },
  {
   "cell_type": "markdown",
   "metadata": {
    "slideshow": {
     "slide_type": "subslide"
    }
   },
   "source": [
    "### Many classifiers can inherently classify multiple classes\n",
    "\n",
    "Random Forest can directly classify multiple classes so OvR or OvO classification not required."
   ]
  },
  {
   "cell_type": "code",
   "execution_count": 47,
   "metadata": {
    "execution": {
     "iopub.execute_input": "2022-01-14T13:50:08.747105Z",
     "iopub.status.busy": "2022-01-14T13:50:08.746584Z",
     "iopub.status.idle": "2022-01-14T13:50:50.504156Z",
     "shell.execute_reply": "2022-01-14T13:50:50.503273Z"
    }
   },
   "outputs": [
    {
     "data": {
      "text/plain": [
       "array([5], dtype=uint8)"
      ]
     },
     "execution_count": 47,
     "metadata": {},
     "output_type": "execute_result"
    }
   ],
   "source": [
    "forest_clf.fit(X_train, y_train)\n",
    "forest_clf.predict([some_digit])"
   ]
  },
  {
   "cell_type": "code",
   "execution_count": 48,
   "metadata": {
    "execution": {
     "iopub.execute_input": "2022-01-14T13:50:50.520314Z",
     "iopub.status.busy": "2022-01-14T13:50:50.519489Z",
     "iopub.status.idle": "2022-01-14T13:50:50.524513Z",
     "shell.execute_reply": "2022-01-14T13:50:50.524045Z"
    }
   },
   "outputs": [
    {
     "data": {
      "text/plain": [
       "array([[0.03, 0.01, 0.  , 0.02, 0.02, 0.85, 0.02, 0.03, 0.01, 0.01]])"
      ]
     },
     "execution_count": 48,
     "metadata": {},
     "output_type": "execute_result"
    }
   ],
   "source": [
    "forest_clf.predict_proba([some_digit])"
   ]
  },
  {
   "cell_type": "code",
   "execution_count": 49,
   "metadata": {
    "execution": {
     "iopub.execute_input": "2022-01-14T13:50:50.528131Z",
     "iopub.status.busy": "2022-01-14T13:50:50.526685Z",
     "iopub.status.idle": "2022-01-14T13:51:09.812698Z",
     "shell.execute_reply": "2022-01-14T13:51:09.813473Z"
    }
   },
   "outputs": [
    {
     "data": {
      "text/plain": [
       "array([0.8687 , 0.86975, 0.8449 ])"
      ]
     },
     "execution_count": 49,
     "metadata": {},
     "output_type": "execute_result"
    }
   ],
   "source": [
    "cross_val_score(sgd_clf, X_train, y_train, cv=3, scoring=\"accuracy\")"
   ]
  },
  {
   "cell_type": "markdown",
   "metadata": {
    "slideshow": {
     "slide_type": "subslide"
    }
   },
   "source": [
    "### Error analysis"
   ]
  },
  {
   "cell_type": "markdown",
   "metadata": {},
   "source": [
    "Compute confusion matrix for multiclass classification."
   ]
  },
  {
   "cell_type": "code",
   "execution_count": 50,
   "metadata": {
    "execution": {
     "iopub.execute_input": "2022-01-14T13:51:09.818179Z",
     "iopub.status.busy": "2022-01-14T13:51:09.817598Z",
     "iopub.status.idle": "2022-01-14T13:51:29.097975Z",
     "shell.execute_reply": "2022-01-14T13:51:29.098714Z"
    }
   },
   "outputs": [
    {
     "data": {
      "text/plain": [
       "array([[5765,    2,   16,   16,    7,   21,   33,    9,   48,    6],\n",
       "       [   1, 6470,   41,   17,    9,   35,   13,   16,  138,    2],\n",
       "       [  79,   52, 5155,  153,   39,   31,  171,   85,  181,   12],\n",
       "       [  80,   40,  224, 5087,   19,  286,   62,   78,  217,   38],\n",
       "       [  37,   30,   46,   15, 5101,   22,   64,   75,  315,  137],\n",
       "       [ 127,   27,   35,  208,   48, 4451,  175,   35,  259,   56],\n",
       "       [  45,   10,   57,    3,   19,  112, 5611,   11,   45,    5],\n",
       "       [  25,   32,   91,   49,   50,   15,    8, 5824,   81,   90],\n",
       "       [  70,  175,  127,  278,   43,  394,   86,   51, 4571,   56],\n",
       "       [  48,   33,   54,  117,  326,   99,    5,  801,  834, 3632]])"
      ]
     },
     "execution_count": 50,
     "metadata": {},
     "output_type": "execute_result"
    }
   ],
   "source": [
    "y_train_pred = cross_val_predict(sgd_clf, X_train, y_train, cv=3)\n",
    "conf_mx = confusion_matrix(y_train, y_train_pred)\n",
    "conf_mx"
   ]
  },
  {
   "cell_type": "markdown",
   "metadata": {
    "slideshow": {
     "slide_type": "subslide"
    },
    "tags": [
     "exercise_pointer"
    ]
   },
   "source": [
    "**Exercises:** *You can now complete Exercise 10 in the exercises associated with this lecture.*"
   ]
  },
  {
   "cell_type": "markdown",
   "metadata": {
    "slideshow": {
     "slide_type": "subslide"
    }
   },
   "source": [
    "Performance analysis can provide insight into how to make improvements.\n",
    "\n",
    "For example, for the previous dataset, one might want to consider trying to improve the performane of classifying 9 by collecting more training data for 7s and 9s."
   ]
  }
 ],
 "metadata": {
  "celltoolbar": "Slideshow",
  "kernelspec": {
   "display_name": "Python 3 (ipykernel)",
   "language": "python",
   "name": "python3"
  },
  "language_info": {
   "codemirror_mode": {
    "name": "ipython",
    "version": 3
   },
   "file_extension": ".py",
   "mimetype": "text/x-python",
   "name": "python",
   "nbconvert_exporter": "python",
   "pygments_lexer": "ipython3",
   "version": "3.8.12"
  }
 },
 "nbformat": 4,
 "nbformat_minor": 4
}
